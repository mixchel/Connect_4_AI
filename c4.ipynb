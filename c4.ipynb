{
 "cells": [
  {
   "cell_type": "code",
   "execution_count": 24,
   "metadata": {},
   "outputs": [],
   "source": [
    "import numpy as np\n",
    "from IPython.display import clear_output"
   ]
  },
  {
   "cell_type": "code",
   "execution_count": 3,
   "metadata": {},
   "outputs": [],
   "source": [
    "def str_jogo(jogo):\n",
    "    \"\"\"\n",
    "    Transforma uma string de visualização do jogo no array 'readable' para o script.\n",
    "    \"\"\"\n",
    "    a = 0\n",
    "    jogo_final = np.zeros([6,7], dtype=str) #criação do array\n",
    "    #l = np.zeros([7], dtype=str)\n",
    "    cl=0\n",
    "    for i in jogo:\n",
    "        if i == \"\\n\": \n",
    "            continue #ignora as o caracter de mudança de linha\n",
    "        jogo_final[cl,a] = i\n",
    "        a=a+1\n",
    "        if a ==7:\n",
    "            a=0\n",
    "            cl=cl+1  #começa uma linha nova\n",
    "    return jogo_final\n"
   ]
  },
  {
   "cell_type": "code",
   "execution_count": 4,
   "metadata": {},
   "outputs": [],
   "source": [
    "def jogo_str(jogo):\n",
    "    \"\"\"\n",
    "    Transforma o jogo no array 'readable' para o script numa string de visualização.\n",
    "    \"\"\"\n",
    "    s = \"\"\n",
    "    for a in jogo:\n",
    "        for b in a:\n",
    "            s=s+b\n",
    "        s=s+\"\\n\"\n",
    "    return s"
   ]
  },
  {
   "cell_type": "code",
   "execution_count": 5,
   "metadata": {},
   "outputs": [],
   "source": [
    "def ganho(state):\n",
    "    \"\"\"\n",
    "    Recebe um estado e retorna o vencedor (no caso deste existir)\n",
    "    \n",
    "    \"\"\"\n",
    "\n",
    "    #Itera sobre todos os segmentos de tamanho 4 e verifica se há condição de vencedor\n",
    "    for segment in get_segments(state):\n",
    "        if np.array_equal(segment, ['X', 'X', 'X', 'X']):\n",
    "            return \"X\"\n",
    "        elif np.array_equal(segment, ['O', 'O', 'O', 'O']):\n",
    "            return \"O\"\n",
    "    return None\n",
    "        "
   ]
  },
  {
   "cell_type": "code",
   "execution_count": 6,
   "metadata": {},
   "outputs": [],
   "source": [
    "def all_actions(state):\n",
    "    \"\"\"\n",
    "    Recebe um estado e retorna uma lista com todas as ações possíveis.\n",
    "\n",
    "    \"\"\"\n",
    "    actions = []\n",
    "\n",
    "    #Para cada coluna verifica se a primeira posição (posição mais superior do tabuleiro) \n",
    "    #está livre.\n",
    "\n",
    "    for i in range(7):\n",
    "        if state[0][i] == \"-\":\n",
    "            actions.append(i)\n",
    "    if len(actions)==0:\n",
    "        return None\n",
    "    return actions"
   ]
  },
  {
   "cell_type": "code",
   "execution_count": 7,
   "metadata": {},
   "outputs": [],
   "source": [
    "def player(state):\n",
    "    \"\"\"\n",
    "    Recebe um estado e retorna o jogador nesse turno.\n",
    "\n",
    "    \"\"\"\n",
    "\n",
    "\n",
    "    cx = 0 #contador de X\n",
    "    co = 0 #contador de O\n",
    "    for i in range(6):\n",
    "        a = state[i]\n",
    "        for j in range(7):\n",
    "            b = a[j]\n",
    "            if b == \"X\":\n",
    "                cx +=1\n",
    "            elif b == \"O\":\n",
    "                co +=1\n",
    "    #caso do tabuleiro estar completamente ocupado\n",
    "    if cx+co == 7*6:\n",
    "        return None\n",
    "    \n",
    "    #Se o número de X's for menor ou igual ao numéro de O's, então é a vez de X jogar.\n",
    "    if cx <=co:\n",
    "        return \"X\"\n",
    "    else:\n",
    "        return \"O\""
   ]
  },
  {
   "cell_type": "code",
   "execution_count": 8,
   "metadata": {},
   "outputs": [],
   "source": [
    "def result(jogo, inp):\n",
    "    \"\"\"\n",
    "    Recebe o (estado do) jogo e a ação (coluna onde quer colocar a peça). Coloca a peça no espaço mais abaixo disponível na coluna indicada.\n",
    "    Se a jogada não for válida (coluna inexistente ou inocupada) retorna None.\n",
    "\n",
    "    \"\"\"\n",
    "\n",
    "    #Verifica se a coluna de input é inexistente, retornando None nesse caso\n",
    "    if inp>6 or inp<0:\n",
    "        return None\n",
    "    pl = player(jogo)\n",
    "    jogo_f = -1\n",
    "    col_u = jogo[:, inp] #Seleciona a coluna\n",
    "    for ind, i in enumerate(col_u[::-1]):  #Enumera a coluna selecionada começando do fim para o início\n",
    "        if i == \"-\": #Encontra o primeiro espaço vazio\n",
    "            jogo_f = np.copy(jogo) #Copia o (estado do) jogo \n",
    "            jogo_f[5-ind,inp] = pl #Coloca a peça do jogador no local apropriado\n",
    "            return jogo_f\n",
    "    if jogo_f==-1:\n",
    "        raise Exception(\"Impossible Move\")\n",
    "    return None"
   ]
  },
  {
   "cell_type": "code",
   "execution_count": 9,
   "metadata": {},
   "outputs": [],
   "source": [
    "def terminal(state):\n",
    "    \"\"\"\"\n",
    "    Verifica se um determinado estado é um estado terminal/final \n",
    "     (estado em que um dos jogadores ganhou ou em que não há ações possíveis)\n",
    "    \n",
    "    \"\"\"\n",
    "\n",
    "    #Se houver vencedor o jogo acaba\n",
    "    if ganho(state):\n",
    "        return True\n",
    "    \n",
    "    #Se não houverem ações disponiveis o jogo acaba\n",
    "    elif len(all_actions(state))==0:\n",
    "        return True\n",
    "    else:\n",
    "        return False"
   ]
  },
  {
   "cell_type": "code",
   "execution_count": 10,
   "metadata": {},
   "outputs": [],
   "source": [
    "def utility(state):\n",
    "    \"\"\"\n",
    "    Recebe um estado e retorna a utilidade desse estado\n",
    "      (512 para vitória de X, -512 para vitória de O e 0 em caso de empate).\n",
    "    \n",
    "    \"\"\"\n",
    "    win = ganho(state)\n",
    "    if win ==\"X\":\n",
    "        return 512\n",
    "    elif win ==\"O\":\n",
    "        return -512\n",
    "    else:\n",
    "        return 0"
   ]
  },
  {
   "cell_type": "code",
   "execution_count": 11,
   "metadata": {},
   "outputs": [],
   "source": [
    "def get_segments(state):\n",
    "    \"\"\"\n",
    "    Recebe um estado e retorna uma lista com todos os segmentos de tamanho 4 existentes.\n",
    "    \n",
    "    \"\"\"\n",
    "    segments = [] \n",
    "\n",
    "    #Verifica as linhas e colunas\n",
    "    for i in range(6):\n",
    "        linha = state[i]\n",
    "        for j in range(4):\n",
    "            segments.append(linha[j:j+4])\n",
    "        coluna = state[:,i]\n",
    "        for j in range(3):\n",
    "            segments.append(coluna[j:j+4])\n",
    "\n",
    "    #Verifica a ultima coluna       \n",
    "    coluna = state[:,6]\n",
    "    for j in range(3):\n",
    "        segments.append(coluna[j:j+4])\n",
    "    \n",
    "    #Verifica as diagonais principais\n",
    "    for i in range(-2,4):\n",
    "        dia = np.diag(state,i)\n",
    "        for j in range(len(dia)-3):\n",
    "            segments.append(dia[j:j+4])\n",
    "    #Dá flip no array e verifica as diagonais principais do array flipado (equivalentes às diagonais perpendiculares às principais do array original)\n",
    "    state_tr = np.fliplr(state)\n",
    "    for i in range(-2,4):\n",
    "        dia = np.diag(state_tr,i)\n",
    "        for j in range(len(dia)-3):\n",
    "            segments.append(dia[j:j+4])\n",
    "        \n",
    "    \n",
    "    return segments"
   ]
  },
  {
   "cell_type": "code",
   "execution_count": 12,
   "metadata": {},
   "outputs": [],
   "source": [
    "def evaluate(segment):\n",
    "    cx = 0\n",
    "    co = 0\n",
    "    for i in segment:\n",
    "        if i==\"X\":\n",
    "            cx+=1\n",
    "        elif i==\"O\":\n",
    "            co+=1\n",
    "\n",
    "   # print(cx, co)\n",
    "    if (cx==0 and co==0) or (cx>0 and co>0):\n",
    "        return 0\n",
    "    elif cx == 1:\n",
    "        return 1\n",
    "    elif cx == 2:\n",
    "        return 10\n",
    "    elif cx==3:\n",
    "        return 50\n",
    "    \n",
    "    #   VERIFICAR ISTO\n",
    "    elif cx == 4:\n",
    "        return 512\n",
    "    elif co ==4:\n",
    "        return -512\n",
    "    # ---\n",
    "\n",
    "    elif co == 1:\n",
    "        return -1\n",
    "    elif co == 2:\n",
    "        return -10\n",
    "    elif co==3:\n",
    "        return -50"
   ]
  },
  {
   "cell_type": "code",
   "execution_count": 13,
   "metadata": {},
   "outputs": [],
   "source": [
    "def alphabeta(state, depth, alpha, beta):\n",
    "\n",
    "    \"\"\"\n",
    "    Aplica o algoritmo min/max aproximado (como descrito no enunciado).\n",
    "    Aplica também alpha-betta pruning.\n",
    "    Recebe um estado de jogo, um limite máximo de profundiade e alpha beta.\n",
    "    Utiliza alpha-beta até à profundidade limite retornando uma aproximação do valor real.\n",
    "    Retorna o valor min/max e a ação correspondente.\n",
    "    Avalia automaticamente se é o max player (\"X\") ou min player (\"O\").\n",
    "    \n",
    "    \"\"\"\n",
    "    #print(state)\n",
    "    if depth ==0:\n",
    "        segments = get_segments(state)\n",
    "        s = 0\n",
    "        for segment in segments:\n",
    "            #print(segment)\n",
    "            s = s + evaluate(segment)\n",
    "\n",
    "        #PARTE NOVA QUE ADICIONEI\n",
    "        pl = player(state)\n",
    "        if pl ==\"X\":\n",
    "            s =s+16\n",
    "        elif pl==\"O\":\n",
    "            s=s-16\n",
    "        # -------------\n",
    "        return s, None\n",
    "    \n",
    "    #FAZER COM QUE RETORNE O MOVIMENTO QUE FAZ GANHAR\n",
    "    if terminal(state):\n",
    "        return utility(state), None\n",
    "    \n",
    "    if player(state) == \"X\":\n",
    "        v = -np.infty\n",
    "        move = None\n",
    "        for action in all_actions(state):\n",
    "            res = result(state, action)\n",
    "            test = alphabeta(res, depth-1, alpha, beta )[0]\n",
    "            #print(test)\n",
    "            if test >v:\n",
    "                v = test \n",
    "                move = action\n",
    "            if v > beta:\n",
    "                break\n",
    "            alpha = max(alpha, v)\n",
    "        return v, move\n",
    "    else:\n",
    "        v = np.infty\n",
    "        for action in all_actions(state):\n",
    "            res = result(state, action)\n",
    "            test = alphabeta(res, depth-1, alpha, beta )[0]\n",
    "            if test < v:\n",
    "                v = test \n",
    "                move = action\n",
    "            if v < alpha:\n",
    "                break\n",
    "            beta = min(beta, v)        \n",
    "        return v, move"
   ]
  },
  {
   "cell_type": "markdown",
   "metadata": {},
   "source": [
    "# Testes"
   ]
  },
  {
   "cell_type": "code",
   "execution_count": 28,
   "metadata": {},
   "outputs": [
    {
     "name": "stdout",
     "output_type": "stream",
     "text": [
      "[['-' '-' '-' '-' '-' '-' '-']\n",
      " ['-' '-' '-' '-' '-' '-' '-']\n",
      " ['-' '-' '-' '-' '-' '-' '-']\n",
      " ['-' '-' '-' '-' '-' '-' '-']\n",
      " ['-' '-' '-' '-' '-' '-' '-']\n",
      " ['-' '-' '-' '-' '-' '-' '-']]\n"
     ]
    }
   ],
   "source": [
    "ji = \"\"\"-------\n",
    "-------\n",
    "-------\n",
    "-------\n",
    "-------\n",
    "-------\"\"\"\n",
    "\n",
    "ji = str_jogo(ji)\n",
    "\n",
    "#print(alphabeta(ji,5, -np.infty, np.infty))\n",
    "\n",
    "print(ji)"
   ]
  },
  {
   "cell_type": "code",
   "execution_count": 31,
   "metadata": {},
   "outputs": [
    {
     "name": "stdout",
     "output_type": "stream",
     "text": [
      "[['-' '-' '-' '-' '-' '-' '-']\n",
      " ['-' '-' '-' '-' '-' '-' '-']\n",
      " ['-' '-' '-' '-' '-' '-' '-']\n",
      " ['-' '-' 'X' '-' '-' '-' '-']\n",
      " ['-' '-' 'O' '-' '-' '-' '-']\n",
      " ['-' '-' 'X' '-' '-' '-' '-']] None\n"
     ]
    }
   ],
   "source": [
    "ji = result(ji, alphabeta(ji,5,-np.infty, np.infty)[1])\n",
    "\n",
    "print(ji, ganho(ji))\n",
    "if ganho(ji):\n",
    "    print(\"JA GANHARAM:\", ganho(ji))"
   ]
  },
  {
   "cell_type": "code",
   "execution_count": 32,
   "metadata": {},
   "outputs": [
    {
     "name": "stdout",
     "output_type": "stream",
     "text": [
      "[['-' '-' '-' '-' '-' '-' '-']\n",
      " ['-' '-' '-' '-' '-' '-' '-']\n",
      " ['-' '-' 'O' '-' '-' '-' '-']\n",
      " ['-' '-' 'X' '-' '-' '-' '-']\n",
      " ['-' '-' 'O' '-' '-' '-' '-']\n",
      " ['-' '-' 'X' '-' '-' '-' '-']]\n"
     ]
    }
   ],
   "source": [
    "ji = result(ji, 2)\n",
    "print(ji)\n",
    "if ganho(ji):\n",
    "    print(\"JA GANHARAM:\", ganho(ji))"
   ]
  },
  {
   "cell_type": "markdown",
   "metadata": {},
   "source": [
    "# TESTE DE JOGO"
   ]
  },
  {
   "cell_type": "code",
   "execution_count": 27,
   "metadata": {},
   "outputs": [
    {
     "name": "stdout",
     "output_type": "stream",
     "text": [
      "[['-' '-' '-' '-' '-' '-' '-']\n",
      " ['O' '-' '-' '-' '-' '-' '-']\n",
      " ['X' '-' '-' '-' '-' '-' '-']\n",
      " ['O' '-' '-' '-' '-' '-' '-']\n",
      " ['O' '-' 'X' '-' '-' '-' '-']\n",
      " ['O' '-' 'X' 'X' 'X' '-' '-']] None\n"
     ]
    },
    {
     "ename": "ValueError",
     "evalue": "invalid literal for int() with base 10: ''",
     "output_type": "error",
     "traceback": [
      "\u001b[1;31m---------------------------------------------------------------------------\u001b[0m",
      "\u001b[1;31mValueError\u001b[0m                                Traceback (most recent call last)",
      "Cell \u001b[1;32mIn[27], line 17\u001b[0m\n\u001b[0;32m     14\u001b[0m ji \u001b[38;5;241m=\u001b[39m result(ji, alphabeta(ji,\u001b[38;5;241m5\u001b[39m,\u001b[38;5;241m-\u001b[39mnp\u001b[38;5;241m.\u001b[39minfty, np\u001b[38;5;241m.\u001b[39minfty)[\u001b[38;5;241m1\u001b[39m])\n\u001b[0;32m     16\u001b[0m \u001b[38;5;28mprint\u001b[39m(ji, ganho(ji))\n\u001b[1;32m---> 17\u001b[0m inp \u001b[38;5;241m=\u001b[39m \u001b[38;5;28;43mint\u001b[39;49m\u001b[43m(\u001b[49m\u001b[38;5;28;43minput\u001b[39;49m\u001b[43m(\u001b[49m\u001b[43m)\u001b[49m\u001b[43m)\u001b[49m\n\u001b[0;32m     18\u001b[0m ji \u001b[38;5;241m=\u001b[39m result(ji, inp)\n\u001b[0;32m     19\u001b[0m \u001b[38;5;28mprint\u001b[39m(ji)\n",
      "\u001b[1;31mValueError\u001b[0m: invalid literal for int() with base 10: ''"
     ]
    }
   ],
   "source": [
    "ji = \"\"\"-------\n",
    "-------\n",
    "-------\n",
    "-------\n",
    "-------\n",
    "-------\"\"\"\n",
    "\n",
    "ji = str_jogo(ji)\n",
    "\n",
    "vn = ganho(ji)\n",
    "\n",
    "while terminal(ji)==False:\n",
    "    clear_output()\n",
    "    ji = result(ji, alphabeta(ji,5,-np.infty, np.infty)[1])\n",
    "\n",
    "    print(ji, ganho(ji))\n",
    "    inp = int(input())\n",
    "    ji = result(ji, inp)\n",
    "    print(ji)\n",
    "\n",
    "print(ji, ganho(ji))\n",
    "print(\"GANHOU:\", ganho(ji))\n"
   ]
  },
  {
   "cell_type": "code",
   "execution_count": 63,
   "metadata": {},
   "outputs": [
    {
     "name": "stdout",
     "output_type": "stream",
     "text": [
      "1-> Caso de 4 numa linha\n",
      "-------\n",
      "-------\n",
      "-------\n",
      "-------\n",
      "OOOO-XO\n",
      "X-OXOXO\n",
      "\n",
      "---\n",
      "2-> Caso de 4 numa coluna\n",
      "-------\n",
      "-------\n",
      "X------\n",
      "X------\n",
      "X--O-XO\n",
      "X-OXOXO\n",
      "\n",
      "---\n",
      "3-> Caso de uma diagonal não principal\n",
      "-------\n",
      "-------\n",
      "---X---\n",
      "--X----\n",
      "-X---XO\n",
      "X-OXOXO\n",
      "\n",
      "---\n",
      "4-> Caso de uma coluna cheia\n",
      "X------\n",
      "X------\n",
      "X------\n",
      "X------\n",
      "X--O-XO\n",
      "X-OXOXO\n",
      "\n",
      "---\n"
     ]
    }
   ],
   "source": [
    "\n",
    "\n",
    "jogo = \"\"\"-------\n",
    "-------\n",
    "-------\n",
    "-------\n",
    "OOOO-XO\n",
    "X-OXOXO\"\"\"\n",
    "\n",
    "jogo = str_jogo(jogo)\n",
    "print(\"1-> Caso de 4 numa linha\")\n",
    "print(jogo_str(jogo))\n",
    "print(\"---\")\n",
    "\n",
    "\n",
    "jogo2 = \"\"\"-------\n",
    "-------\n",
    "X------\n",
    "X------\n",
    "X--O-XO\n",
    "X-OXOXO\"\"\"\n",
    "\n",
    "print(\"2-> Caso de 4 numa coluna\")\n",
    "print(jogo_str(str_jogo(jogo2)))\n",
    "jogo2 = str_jogo(jogo2)\n",
    "print(\"---\")\n",
    "\n",
    "\n",
    "\n",
    "\n",
    "\n",
    "jogo3 = \"\"\"-------\n",
    "-------\n",
    "---X---\n",
    "--X----\n",
    "-X---XO\n",
    "X-OXOXO\"\"\"\n",
    "\n",
    "jogo3 = str_jogo(jogo3)\n",
    "print(\"3-> Caso de uma diagonal não principal\")\n",
    "print(jogo_str(jogo3))\n",
    "print(\"---\")\n",
    "\n",
    "\n",
    "jogo4 = \"\"\"X------\n",
    "X------\n",
    "X------\n",
    "X------\n",
    "X--O-XO\n",
    "X-OXOXO\"\"\"\n",
    "\n",
    "print(\"4-> Caso de uma coluna cheia\")\n",
    "print(jogo_str(str_jogo(jogo4)))\n",
    "jogo4 = str_jogo(jogo4)\n",
    "print(\"---\")\n"
   ]
  },
  {
   "cell_type": "code",
   "execution_count": 35,
   "metadata": {},
   "outputs": [
    {
     "data": {
      "text/plain": [
       "[1, 2, 3, 4, 5, 6]"
      ]
     },
     "execution_count": 35,
     "metadata": {},
     "output_type": "execute_result"
    }
   ],
   "source": [
    "all_actions(jogo4)"
   ]
  },
  {
   "cell_type": "code",
   "execution_count": 36,
   "metadata": {},
   "outputs": [
    {
     "name": "stdout",
     "output_type": "stream",
     "text": [
      "[['X' '-' '-' '-' '-' '-' '-']\n",
      " ['X' '-' '-' '-' '-' '-' '-']\n",
      " ['X' '-' '-' '-' '-' '-' '-']\n",
      " ['X' '-' '-' '-' '-' '-' '-']\n",
      " ['X' '-' '-' 'O' '-' 'X' 'O']\n",
      " ['X' 'X' 'O' 'X' 'O' 'X' 'O']]\n"
     ]
    }
   ],
   "source": [
    "print(result(jogo4, 1))\n"
   ]
  },
  {
   "cell_type": "code",
   "execution_count": 74,
   "metadata": {},
   "outputs": [
    {
     "data": {
      "text/plain": [
       "'X'"
      ]
     },
     "execution_count": 74,
     "metadata": {},
     "output_type": "execute_result"
    }
   ],
   "source": [
    "ganho(jogo4)"
   ]
  },
  {
   "cell_type": "code",
   "execution_count": 49,
   "metadata": {},
   "outputs": [
    {
     "name": "stdout",
     "output_type": "stream",
     "text": [
      "X------\n",
      "X------\n",
      "X------\n",
      "X------\n",
      "X--O-XO\n",
      "X-OXOXO\n",
      "\n"
     ]
    }
   ],
   "source": [
    "print(jogo_str(jogo4))"
   ]
  },
  {
   "cell_type": "code",
   "execution_count": 72,
   "metadata": {},
   "outputs": [
    {
     "name": "stdout",
     "output_type": "stream",
     "text": [
      "['X' '-' '-' '-']\n",
      "['X' '-' '-' '-']\n",
      "['X' '-' '-' '-']\n",
      "['X' '-' '-' '-']\n",
      "['X' '-' '-' '-']\n"
     ]
    }
   ],
   "source": [
    "for i in get_segments(jogo4):\n",
    "    if np.array_equal(i,[\"X\", \"-\", \"-\", \"-\"]):\n",
    "        print(i)\n"
   ]
  },
  {
   "cell_type": "code",
   "execution_count": 66,
   "metadata": {},
   "outputs": [
    {
     "name": "stdout",
     "output_type": "stream",
     "text": [
      "X\n"
     ]
    }
   ],
   "source": [
    "print(ganho(jogo3))"
   ]
  },
  {
   "cell_type": "code",
   "execution_count": 67,
   "metadata": {},
   "outputs": [
    {
     "data": {
      "text/plain": [
       "array(['-', '-', 'O', 'X'], dtype='<U1')"
      ]
     },
     "execution_count": 67,
     "metadata": {},
     "output_type": "execute_result"
    }
   ],
   "source": [
    "jf = np.fliplr(jogo)\n",
    "np.diag(jogo, -2)"
   ]
  },
  {
   "cell_type": "code",
   "execution_count": 97,
   "metadata": {},
   "outputs": [
    {
     "name": "stdout",
     "output_type": "stream",
     "text": [
      "0 0\n",
      "0\n"
     ]
    }
   ],
   "source": [
    "print(evaluate([\"-\", \"-\", \"-\", \"-\"]))\n",
    "\n",
    "\n"
   ]
  },
  {
   "cell_type": "code",
   "execution_count": 26,
   "metadata": {},
   "outputs": [
    {
     "name": "stdout",
     "output_type": "stream",
     "text": [
      "0\n",
      "1\n",
      "2\n",
      "3 0 0\n"
     ]
    }
   ],
   "source": [
    "vx = 0\n",
    "vo = 0\n",
    "em = 0\n",
    "sf =[]\n",
    "for i in range(3):\n",
    "    ji = \"\"\"-------\n",
    "-------\n",
    "-------\n",
    "-------\n",
    "-------\n",
    "-------\"\"\"\n",
    "    state = str_jogo(ji)\n",
    "    #print(terminal(state))\n",
    "    while terminal(state) == False:\n",
    "        state = result(state, alphabeta(state, 5, -np.infty, np.infty)[1])\n",
    "        #print(state)\n",
    "    if ganho(state) == \"X\":\n",
    "        vx = vx+1\n",
    "    elif ganho(state) == \"O\":\n",
    "        vo = vo +1\n",
    "    else:\n",
    "        em =em+1\n",
    "    print(i)\n",
    "    sf.append(state)\n",
    "print(vx, vo, em)"
   ]
  },
  {
   "cell_type": "code",
   "execution_count": 29,
   "metadata": {},
   "outputs": [
    {
     "name": "stdout",
     "output_type": "stream",
     "text": [
      "[['O' 'O' 'X' '-' 'X' '-' '-']\n",
      " ['X' 'X' 'O' '-' 'O' 'X' '-']\n",
      " ['O' 'O' 'X' 'X' 'X' 'X' '-']\n",
      " ['O' 'X' 'X' 'O' 'O' 'O' '-']\n",
      " ['X' 'O' 'O' 'X' 'X' 'O' '-']\n",
      " ['X' 'O' 'X' 'O' 'O' 'X' '-']]\n",
      "........................\n",
      "[['O' 'O' 'X' '-' 'X' '-' '-']\n",
      " ['X' 'X' 'O' '-' 'O' 'X' '-']\n",
      " ['O' 'O' 'X' 'X' 'X' 'X' '-']\n",
      " ['O' 'X' 'X' 'O' 'O' 'O' '-']\n",
      " ['X' 'O' 'O' 'X' 'X' 'O' '-']\n",
      " ['X' 'O' 'X' 'O' 'O' 'X' '-']]\n",
      "........................\n",
      "[['O' 'O' 'X' '-' 'X' '-' '-']\n",
      " ['X' 'X' 'O' '-' 'O' 'X' '-']\n",
      " ['O' 'O' 'X' 'X' 'X' 'X' '-']\n",
      " ['O' 'X' 'X' 'O' 'O' 'O' '-']\n",
      " ['X' 'O' 'O' 'X' 'X' 'O' '-']\n",
      " ['X' 'O' 'X' 'O' 'O' 'X' '-']]\n",
      "........................\n"
     ]
    }
   ],
   "source": [
    "for i in sf:\n",
    "    print(i)\n",
    "    print(\"........................\")"
   ]
  },
  {
   "cell_type": "markdown",
   "metadata": {},
   "source": [
    "# Testes de tempo de execução"
   ]
  },
  {
   "cell_type": "code",
   "execution_count": 37,
   "metadata": {},
   "outputs": [
    {
     "name": "stdout",
     "output_type": "stream",
     "text": [
      "260 µs ± 6.89 µs per loop (mean ± std. dev. of 7 runs, 1,000 loops each)\n"
     ]
    }
   ],
   "source": [
    "%timeit ganho(jogo)\n"
   ]
  },
  {
   "cell_type": "markdown",
   "metadata": {},
   "source": [
    "# TO-DO\n",
    " \n",
    "* Verificar se um dado estado de jogo é possível\n",
    "* Criar algoritmo A-star\n",
    "* Criar MCTS\n",
    "* Criar o jogo-teste\n",
    "* Criar ciclo de jogo\n",
    "* Avaliar tempos de execução"
   ]
  },
  {
   "cell_type": "markdown",
   "metadata": {},
   "source": []
  }
 ],
 "metadata": {
  "kernelspec": {
   "display_name": "Python 3",
   "language": "python",
   "name": "python3"
  },
  "language_info": {
   "codemirror_mode": {
    "name": "ipython",
    "version": 3
   },
   "file_extension": ".py",
   "mimetype": "text/x-python",
   "name": "python",
   "nbconvert_exporter": "python",
   "pygments_lexer": "ipython3",
   "version": "3.11.1"
  }
 },
 "nbformat": 4,
 "nbformat_minor": 2
}
